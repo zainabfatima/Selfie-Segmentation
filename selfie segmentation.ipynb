{
 "cells": [
  {
   "cell_type": "markdown",
   "id": "9777e865-4785-4a31-af55-a22a1c38c4c0",
   "metadata": {},
   "source": [
    "# IMPORTING DEPENDENCIES"
   ]
  },
  {
   "cell_type": "code",
   "execution_count": 2,
   "id": "acc43fa5-6103-452e-8d22-9ef9a2c218ca",
   "metadata": {},
   "outputs": [],
   "source": [
    "import mediapipe as mp\n",
    "import cv2\n",
    "import numpy as np\n"
   ]
  },
  {
   "cell_type": "markdown",
   "id": "85690157-225a-4e06-a6a8-e4fa01493399",
   "metadata": {},
   "source": [
    "# INTSTANTIATING MEDIAPIPE SELFIE SEGMENTATION"
   ]
  },
  {
   "cell_type": "code",
   "execution_count": 3,
   "id": "19cfde7e-7840-45f8-99a6-b9647f7b4092",
   "metadata": {},
   "outputs": [],
   "source": [
    "mp_selfie = mp.solutions.selfie_segmentation"
   ]
  },
  {
   "cell_type": "markdown",
   "id": "1c00b161-9194-48a3-8d20-043a2b4418ce",
   "metadata": {},
   "source": [
    "# TESTING MODEL IN REAL TIME"
   ]
  },
  {
   "cell_type": "code",
   "execution_count": 22,
   "id": "6460690a-7309-413b-9c9c-a42d02b03f60",
   "metadata": {},
   "outputs": [],
   "source": [
    "cap = cv2.VideoCapture(0)\n",
    "# Create with statement for model \n",
    "with mp_selfie.SelfieSegmentation(model_selection=0) as model: \n",
    "    while cap.isOpened():\n",
    "        ret, fram = cap.read()\n",
    "        frame = cv2.resize(fram, (1280,650))\n",
    "        \n",
    "        # Apply segmentation\n",
    "        frame.flags.writeable = False\n",
    "        frame = cv2.cvtColor(frame, cv2.COLOR_BGR2RGB)\n",
    "        results = model.process(frame)\n",
    "        frame.flags.writeable = True\n",
    "\n",
    "        cv2.imshow('Webcam feed', frame)\n",
    "\n",
    "        if cv2.waitKey(1) & 0xFF == ord('q'):\n",
    "            break\n",
    "cap.release()\n",
    "cv2.destroyAllWindows()"
   ]
  },
  {
   "cell_type": "code",
   "execution_count": 6,
   "id": "0d729133-41e3-4330-8354-a6981ea9cc1a",
   "metadata": {},
   "outputs": [
    {
     "data": {
      "text/plain": [
       "array([[7.4948678e-36, 7.4948678e-36, 7.4948678e-36, ..., 0.0000000e+00,\n",
       "        0.0000000e+00, 0.0000000e+00],\n",
       "       [3.4814012e-29, 3.4814012e-29, 3.4814012e-29, ..., 0.0000000e+00,\n",
       "        0.0000000e+00, 0.0000000e+00],\n",
       "       [1.8587140e-28, 1.8587140e-28, 1.8587140e-28, ..., 0.0000000e+00,\n",
       "        0.0000000e+00, 0.0000000e+00],\n",
       "       ...,\n",
       "       [9.9828292e-05, 9.9828292e-05, 9.9828292e-05, ..., 3.8195214e-01,\n",
       "        3.8195214e-01, 3.8195214e-01],\n",
       "       [1.7580770e-04, 1.7580770e-04, 1.7580770e-04, ..., 3.6233056e-01,\n",
       "        3.6233056e-01, 3.6233056e-01],\n",
       "       [1.9331857e-04, 1.9331857e-04, 1.9331857e-04, ..., 3.5780838e-01,\n",
       "        3.5780838e-01, 3.5780838e-01]], dtype=float32)"
      ]
     },
     "execution_count": 6,
     "metadata": {},
     "output_type": "execute_result"
    }
   ],
   "source": [
    "results.segmentation_mask\n"
   ]
  },
  {
   "cell_type": "markdown",
   "id": "2618e78a-e114-43ca-9b4c-623561ba0c8b",
   "metadata": {},
   "source": [
    "# VISUALIZING RESULTS"
   ]
  },
  {
   "cell_type": "code",
   "execution_count": null,
   "id": "8c3e3b23-fd7c-4ff0-905f-68874ed155f6",
   "metadata": {},
   "outputs": [],
   "source": [
    "from matplotlib import pyplot as plt\n",
    "from matplotlib import gridspec\n",
    "\n",
    "# Layout\n",
    "plt.figure(figsize=(15,15))\n",
    "grid = gridspec.GridSpec(1,2)\n",
    "\n",
    "# Setup axes\n",
    "ax0 = plt.subplot(grid[0])\n",
    "ax1 = plt.subplot(grid[1])\n",
    "\n",
    "ax0.imshow(frame)\n",
    "ax1.imshow(results.segmentation_mask)\n",
    "plt.show()\n",
    "\n",
    "#Not gonna show my face here!:/, believe me it works. Run it for yourself. :p"
   ]
  },
  {
   "cell_type": "markdown",
   "id": "5d96e0e9-fb85-4312-ae98-8afbf2a3f723",
   "metadata": {},
   "source": [
    "# VISUALIZING STRIPPED SELFIE FROM BACKGROUND"
   ]
  },
  {
   "cell_type": "code",
   "execution_count": null,
   "id": "03782038-c447-4e7a-8108-215a3574bb01",
   "metadata": {},
   "outputs": [],
   "source": [
    "\n",
    "background = np.zeros(frame.shape, dtype=np.uint8)\n",
    "mask = np.stack((results.segmentation_mask,)*3, axis=-1) > 0.5\n",
    "\n",
    "segmented_image = np.where(mask, frame, background)\n",
    "\n",
    "plt.imshow(segmented_image);"
   ]
  },
  {
   "cell_type": "markdown",
   "id": "41ab4f4d-d396-47be-80c2-087e4b037d19",
   "metadata": {},
   "source": [
    "# BUILDING SELFIE SEGMENTATION MODEL IN REAL TIME"
   ]
  },
  {
   "cell_type": "markdown",
   "id": "7d865b2c-b9ca-40a3-b6ef-34ab5be3d59c",
   "metadata": {},
   "source": [
    "***This code will create an opencv feed where we have only a singe background.***"
   ]
  },
  {
   "cell_type": "code",
   "execution_count": null,
   "id": "345dcb20-2700-4e87-b0eb-dbd1044eff98",
   "metadata": {},
   "outputs": [],
   "source": [
    "\n",
    "cap = cv2.VideoCapture(0)\n",
    "# Create with statement for model \n",
    "with mp_selfie.SelfieSegmentation(model_selection=0) as model: \n",
    "    while cap.isOpened():\n",
    "        ret, fram = cap.read()\n",
    "        frame = cv2.resize(fram, (1280,650))\n",
    "        \n",
    "        frame.flags.writeable = False\n",
    "        \n",
    "        frame = cv2.cvtColor(frame, cv2.COLOR_BGR2RGB)\n",
    "        results = model.process(frame)\n",
    "        \n",
    "        mask = np.stack((results.segmentation_mask,)*3, axis=-1) > 0.5 \n",
    "        \n",
    "      \n",
    "        background = np.zeros(frame.shape, dtype=np.uint8)\n",
    "\n",
    "        \n",
    "        \n",
    "        imgs =  np.where(mask, frame, background)\n",
    "        frame.flags.writeable = True\n",
    "        final = cv2.cvtColor(imgs, cv2.COLOR_RGB2BGR)\n",
    "        \n",
    "        cv2.imshow('Webcam feed', final)\n",
    "\n",
    "        if cv2.waitKey(1) & 0xFF == ord('q'):\n",
    "            break\n",
    "cap.release()\n",
    "cv2.destroyAllWindows()\n"
   ]
  },
  {
   "cell_type": "code",
   "execution_count": 13,
   "id": "36b05a88-6842-48df-843b-d388d29f25d1",
   "metadata": {},
   "outputs": [],
   "source": [
    "bg = cv2.imread('C:/users/moaaz/notebooks/SelfieSegmentationwithGradio-main/img1.jpg')\n",
    "bg1 = cv2.resize(bg, (1280,650), interpolation=cv2.INTER_LINEAR)"
   ]
  },
  {
   "cell_type": "markdown",
   "id": "30140b28-e76e-4122-91c4-54fd3a09be2e",
   "metadata": {},
   "source": [
    "***This code will create an opencv feed where we can switch through three backgrounds by pressing \"a\", \"s\", \"d\" keys.***"
   ]
  },
  {
   "cell_type": "code",
   "execution_count": 20,
   "id": "66855caa-d588-4611-98de-75b17d7df350",
   "metadata": {},
   "outputs": [],
   "source": [
    "\n",
    "cap = cv2.VideoCapture(0)\n",
    "# Create with statement for model \n",
    "with mp_selfie.SelfieSegmentation(model_selection=0) as model: \n",
    "    while cap.isOpened():\n",
    "        ret, fram = cap.read()\n",
    "        frame = cv2.resize(fram, (1280,650))\n",
    "        \n",
    "        frame.flags.writeable = False\n",
    "        \n",
    "        frame = cv2.cvtColor(frame, cv2.COLOR_BGR2RGB)\n",
    "        results = model.process(frame)\n",
    "        \n",
    "        mask = np.stack((results.segmentation_mask,)*3, axis=-1) > 0.5 \n",
    "        \n",
    "      \n",
    "        if cv2.waitKey(10) & 0xFF == ord('s'):\n",
    "            bg = cv2.imread('C:/users/moaaz/notebooks/SelfieSegmentationwithGradio-main/img1.jpg')\n",
    "            bg1 = cv2.resize(bg, (1280,650), interpolation=cv2.INTER_LINEAR)\n",
    "            \n",
    "        elif cv2.waitKey(10) & 0xFF == ord('a'):\n",
    "            bg = cv2.imread('C:/users/moaaz/notebooks/SelfieSegmentationwithGradio-main/img2.jpg')\n",
    "            bg1 = cv2.resize(bg, (1280,650), interpolation=cv2.INTER_LINEAR)\n",
    "        \n",
    "        elif cv2.waitKey(10) & 0xFF == ord('d'):\n",
    "            bg = cv2.imread('C:/users/moaaz/notebooks/SelfieSegmentationwithGradio-main/img3.png')\n",
    "            bg1 = cv2.resize(bg, (1280,650), interpolation=cv2.INTER_LINEAR)\n",
    "        \n",
    "        \n",
    "        imgs =  np.where(mask, frame, bg1)\n",
    "        frame.flags.writeable = True\n",
    "        final = cv2.cvtColor(imgs, cv2.COLOR_RGB2BGR)\n",
    "        \n",
    "        cv2.imshow('Webcam feed', final)\n",
    "\n",
    "        if cv2.waitKey(1) & 0xFF == ord('q'):\n",
    "            break\n",
    "cap.release()\n",
    "cv2.destroyAllWindows()\n"
   ]
  },
  {
   "cell_type": "code",
   "execution_count": null,
   "id": "6d3d3e49-3119-489e-a567-4913c7c4b40c",
   "metadata": {},
   "outputs": [],
   "source": []
  },
  {
   "cell_type": "code",
   "execution_count": null,
   "id": "a2728ebe-1eec-4cf2-a551-e1f64ffda19f",
   "metadata": {},
   "outputs": [],
   "source": []
  },
  {
   "cell_type": "code",
   "execution_count": null,
   "id": "a4c0ad45-1fc8-49e1-8d3f-2a62863fb999",
   "metadata": {},
   "outputs": [],
   "source": []
  }
 ],
 "metadata": {
  "kernelspec": {
   "display_name": "Python 3 (ipykernel)",
   "language": "python",
   "name": "python3"
  },
  "language_info": {
   "codemirror_mode": {
    "name": "ipython",
    "version": 3
   },
   "file_extension": ".py",
   "mimetype": "text/x-python",
   "name": "python",
   "nbconvert_exporter": "python",
   "pygments_lexer": "ipython3",
   "version": "3.9.7"
  }
 },
 "nbformat": 4,
 "nbformat_minor": 5
}
